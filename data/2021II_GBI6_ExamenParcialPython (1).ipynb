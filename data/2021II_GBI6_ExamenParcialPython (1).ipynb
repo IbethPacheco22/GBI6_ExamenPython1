{
 "cells": [
  {
   "cell_type": "markdown",
   "metadata": {},
   "source": [
    "<img src=\"https://www.ikiam.edu.ec/img/logo-ikiam-grey.png\" width=300 height=240 />\n",
    "\n",
    "# EXAMEN PARCIAL PYTHON\n",
    "    \n",
    "\n",
    "## GBI6-2021II: BIOINFORMÁTICA\n",
    "\n",
    "**Pacheco, Ibeth** <--- CAMBIE POR LOS QUE CORRESPONDA A SUS DATOS\n",
    "\n",
    "**18-02-2021**"
   ]
  },
  {
   "cell_type": "markdown",
   "metadata": {},
   "source": [
    "<font color='red'>NO AGREGUE NUEVAS CELDAS, UTILICE ÚNICAMENTE LAS QUE ESTÁN CREADAS</font>\n"
   ]
  },
  {
   "cell_type": "markdown",
   "metadata": {},
   "source": [
    "### REQUERIMIENTOS PARA EL EXAMEN\n",
    "Para este examen se requiere dos documentos: \n",
    "\n",
    "1. Archivo ```miningscience.py``` donde tendrá dos funciones:\n",
    "\n",
    "2. Archivo ```2021II_GBI6_ExamenParcialPython``` donde se llamará las funciones y se obtendrá resultados."
   ]
  },
  {
   "cell_type": "markdown",
   "metadata": {},
   "source": [
    "## Ejercicio 1 [2 puntos]\n",
    "Cree el archivo ```miningscience.py``` con las siguientes dosfunciones:\n",
    "    \n",
    "i. ```download_pubmed```: para descargar la data de PubMed utilizando el **ENTREZ** de Biopython. El parámetro de entrada para la función es el ```keyword```. \n",
    "    \n",
    "ii. ```mining_pubs```: esta función debe utilizar el módulo **re** y utilizar el párametro ```tipo``` para realizar lo siguiente:\n",
    "        \n",
    "* Si el tipo es \"DP\" recupera el año de publicación del artículo. El retorno es un *dataframe* con el **PMID** y el **DP_year**.\n",
    "      \n",
    "* Si el tipo es \"AU\" recupera el número de autores por **PMID**. El retorno es un *dataframe* con el **PMID** y el **num_auth**. \n",
    "      \n",
    "* Si el tipo es \"AD\" recupera el conteo de autores por país. El retorno es un *dataframe* con el **country** y el **num_auth**. \n",
    "\n",
    "* *Puede utilizar un ```if``` dentro de la función.* \n",
    "\n",
    "* *Cree un docstring para cada función.* \n",
    "\n",
    "Luego de crear las funciones, cargue el módulo ```miningscience``` como ```msc``` e imprima docstring de cada función.\n",
    "\n",
    "\n"
   ]
  },
  {
   "cell_type": "code",
   "execution_count": 26,
   "metadata": {},
   "outputs": [
    {
     "name": "stdout",
     "output_type": "stream",
     "text": [
      "Help on function mining_pubs in module __main__:\n",
      "\n",
      "mining_pubs(tipo)\n",
      "    función que pide como entrada una variable tipo string que puede ser \"DP\", \"AU y \"AD\" y como resultado muestra un data frame\n",
      "\n",
      "Help on function download_pubmed in module __main__:\n",
      "\n",
      "download_pubmed(keyword)\n",
      "    Funcion que pide como entrada una variable tipo string y como salida muestra una lista de los ids obtenidos de la busqueda\n",
      "\n"
     ]
    }
   ],
   "source": [
    "def download_pubmed (keyword):\n",
    "    \"\"\"\n",
    "    Funcion que pide como entrada una variable tipo string y como salida muestra una lista de los ids obtenidos de la busqueda \n",
    "    \"\"\"\n",
    "    from Bio import Entrez\n",
    "    from Bio import SeqIO\n",
    "    from Bio import GenBank \n",
    "    Entrez.email = '.com'\n",
    "    handle = Entrez.esearch(db='pubmed',\n",
    "                        sort='relevance',\n",
    "                        retmax='1000',\n",
    "                        retmode='xml',\n",
    "                        term=keyword)\n",
    "    results = Entrez.read(handle)\n",
    "    id_list = results[\"IdList\"]\n",
    "    ids = ','.join(id_list)\n",
    "    Entrez.email = 'ibethpacheco200@gmail.com'\n",
    "    handle = Entrez.efetch(db='pubmed',\n",
    "                       retmode='xml',\n",
    "                       id=ids)\n",
    "    id_l = ids.split(\",\")\n",
    "    return (id_l) \n",
    "\n",
    "\n",
    "import csv \n",
    "import re\n",
    "import pandas as pd \n",
    "from collections import Counter\n",
    "\n",
    "def mining_pubs(tipo):\n",
    "    \"\"\"\n",
    "    función que pide como entrada una variable tipo string que puede ser \"DP\", \"AU y \"AD\" y como resultado muestra un data frame \n",
    "    \"\"\"\n",
    "    with open(\"pubmed-EcuadorGen-set.txt\", errors=\"ignore\") as f: \n",
    "        texto = f.read() \n",
    "    if tipo == \"DP\":\n",
    "        ## Data frame con el PMID y año de publicación\n",
    "        PMID = re.findall(\"PMID- (\\d*)\", texto) \n",
    "        year = re.findall(\"DP\\s{2}-\\s(\\d{4})\", texto) ##extrae el año de publicación de los articulos \n",
    "        pmid_year = pd.DataFrame()\n",
    "        pmid_year[\"PMID\"] = PMID\n",
    "        pmid_year[\"Año de publicación\"] = year\n",
    "        return (pmid_year)\n",
    "    elif tipo == \"AU\": \n",
    "        PMID = re.findall(\"PMID- (\\d*)\", texto) \n",
    "        autores = texto.split(\"PMID- \")\n",
    "        autores.pop(0)\n",
    "        num_autores = []\n",
    "        for i in range(len(autores)):\n",
    "            numero = re.findall(\"AU -\", autores[i])\n",
    "            n = (len(numero))\n",
    "            num_autores.append(n)\n",
    "        pmid_autor = pd.DataFrame()\n",
    "        pmid_autor[\"PMID\"] = PMID \n",
    "        pmid_autor[\"Numero de autores\"] = num_autores\n",
    "        return (pmid_autor)\n",
    "    elif tipo == \"AD\": \n",
    "        texto = re.sub(r\" [A-Z]{1}\\.\",\"\", texto)\n",
    "        AD = texto.split(\"AD  - \")\n",
    "        n_paises = []\n",
    "        for i in range(len(AD)): \n",
    "            pais = re.findall(\"\\S, ([A-Za-z]*)\\.\", AD[i])\n",
    "            if not pais == []: \n",
    "                if not len(pais) >= 2:    \n",
    "                    if re.findall(\"^[A-Z]\", pais[0]): \n",
    "                        n_paises.append(pais[0])\n",
    "        conteo=Counter(n_paises)\n",
    "        resultado = {}\n",
    "        for clave in conteo:\n",
    "            valor = conteo[clave]\n",
    "            if valor != 1: \n",
    "                resultado[clave] = valor \n",
    "        veces_pais = pd.DataFrame()\n",
    "        veces_pais[\"pais\"] = resultado.keys()\n",
    "        veces_pais[\"numero de autores\"] = resultado.values()\n",
    "        return (veces_pais)\n",
    "import miningscience as msc \n",
    "help (mining_pubs)\n",
    "help (download_pubmed)"
   ]
  },
  {
   "cell_type": "markdown",
   "metadata": {},
   "source": [
    "\n",
    "## Ejercicio 2 [1 punto]\n",
    "\n",
    "\n",
    "Utilice la función ```download_pubmed``` para descargar la data con el keyword ```Ecuador proteomics``` e imprima lo siguiente: \n",
    "\n",
    "```python\n",
    "'El número de artículos es: xx' # xx corresponde al número de artículos recuperados\n",
    "\n",
    "'El PMID del primer artículo es: xxxxxxxx' # xxxxxxxx corresponde al ID del artículo en PUDMED\n",
    "\n",
    "```"
   ]
  },
  {
   "cell_type": "code",
   "execution_count": 4,
   "metadata": {},
   "outputs": [
    {
     "name": "stdout",
     "output_type": "stream",
     "text": [
      "El numero de articulos es: 193\n",
      "El PMID del primer articulo es: 31822297\n"
     ]
    }
   ],
   "source": [
    "art = download_pubmed(\"Ecuador Genomics\")\n",
    "\n",
    "print (\"El numero de articulos es:\", len(art)) \n",
    "\n",
    "print (\"El PMID del primer articulo es:\", art[0])\n",
    "\n"
   ]
  },
  {
   "cell_type": "markdown",
   "metadata": {},
   "source": [
    "## Ejercicio 3 [1 punto]\n",
    "\n",
    "Utilice la función ```mining_pubs``` para crear los siguientes dataframes: \n",
    "\n",
    "* pub_year\n",
    "\n",
    "* pub_authors\n",
    "\n",
    "* coutries\n",
    "\n",
    "Muestre los dos primeros y los dos últimos registros de cada dataframe. "
   ]
  },
  {
   "cell_type": "code",
   "execution_count": 7,
   "metadata": {},
   "outputs": [
    {
     "name": "stdout",
     "output_type": "stream",
     "text": [
      "       PMID Año de publicación\n",
      "0  19844075               2010\n",
      "1  31822297               2019\n",
      "         PMID Año de publicación\n",
      "826  27429642               2016\n",
      "827  31891233               2020\n",
      "       PMID  Numero de autores\n",
      "0  19844075                  2\n",
      "1  31822297                  3\n",
      "         PMID  Numero de autores\n",
      "826  27429642                173\n",
      "827  31891233                728\n",
      "      pais  numero de autores\n",
      "0  Ecuador               1155\n",
      "1  Belgium                 90\n",
      "        pais  numero de autores\n",
      "112   Zambia                  2\n",
      "113   Jordan                  2\n",
      "114   Latvia                  2\n",
      "115  Vietnam                  3\n",
      "116      Tas                  2\n",
      "117    Korea                  2\n",
      "118      Vic                  2\n"
     ]
    }
   ],
   "source": [
    "import miningscience as msc\n",
    "year = msc.mining_pubs(\"DP\")\n",
    "print (year.iloc[0:2])\n",
    "print (year.iloc[826:])\n",
    "authors = msc.mining_pubs(\"AU\")\n",
    "print (authors.iloc[0:2])\n",
    "print (authors.iloc[826:])\n",
    "countries = msc.mining_pubs(\"AD\")\n",
    "print (countries.iloc[0:2])\n",
    "print (countries.iloc[112:])"
   ]
  },
  {
   "cell_type": "markdown",
   "metadata": {
    "jp-MarkdownHeadingCollapsed": true,
    "tags": []
   },
   "source": [
    "## Ejercicio 4 [2 puntos]\n",
    "\n",
    "Realice la visualización de los datos del ejercicio 3. \n",
    "\n",
    "* ```pubyear```: utilizando el conteo artículos por año, calcule la media y la desviación estandar (asumiendo que la distribución es normal). Realice un gráfico de la distribución normal de sus datos. Coloque el título, leyenda de los ejes \"x\" e \"y\", y la leyenda de la curva (utilice las expresiones matemáticas tipos latex de ser necesario). \n",
    "\n",
    "* ```pub_authors```: realice un boxplot del conteo de autores por artículo. Coloque las leyendas adecuadas para cada eje y el título.  \n",
    "\n",
    "* ```countries```: realice una nube de puntos (adaptación de su tarea), resalte al menos 3 países con flechas. Coloque las leyendas adecuadas para cada eje y el título. \n"
   ]
  },
  {
   "cell_type": "code",
   "execution_count": 12,
   "metadata": {},
   "outputs": [
    {
     "name": "stdout",
     "output_type": "stream",
     "text": [
      "La media es:  2014.87077294686\n",
      "La desviación estandar es:  6.804327940706886\n"
     ]
    },
    {
     "data": {
      "text/plain": [
       "Text(0, 0.5, 'Frecuencia')"
      ]
     },
     "execution_count": 12,
     "metadata": {},
     "output_type": "execute_result"
    },
    {
     "data": {
      "image/png": "[encoded data removed]",
      "text/plain": [
       "<Figure size 432x288 with 1 Axes>"
      ]
     },
     "metadata": {
      "needs_background": "light"
     },
     "output_type": "display_data"
    }
   ],
   "source": [
    "import pandas as pd \n",
    "import matplotlib.pyplot as plot\n",
    "from collections import Counter\n",
    "year[\"Año de publicación\"] = year[\"Año de publicación\"].astype(\"int\")\n",
    "mean_py = year[\"Año de publicación\"].mean()\n",
    "sd_py = year[\"Año de publicación\"].std()\n",
    "print (\"La media es: \", mean_py)\n",
    "print (\"La desviación estandar es: \", sd_py)\n",
    "intervalos = range(min(year[\"Año de publicación\"]), max(year[\"Año de publicación\"]))\n",
    "plot.hist(x=year[\"Año de publicación\"], color = \"red\")\n",
    "plot.title(\"Numero de articulos por año\")\n",
    "plot.xlabel(\"Año\")\n",
    "plot.ylabel(\"Frecuencia\")\n"
   ]
  },
  {
   "cell_type": "code",
   "execution_count": 16,
   "metadata": {},
   "outputs": [
    {
     "name": "stdout",
     "output_type": "stream",
     "text": [
      "         PMID  Numero de autores\n",
      "0    19844075                  2\n",
      "1    31822297                  3\n",
      "2    29632024                 33\n",
      "3    32623267                 15\n",
      "4    27577878                 93\n",
      "..        ...                ...\n",
      "823  32917887                 30\n",
      "824  33634602                102\n",
      "825  28785301                173\n",
      "826  27429642                173\n",
      "827  31891233                728\n",
      "\n",
      "[828 rows x 2 columns]\n"
     ]
    },
    {
     "data": {
      "image/png": "[encoded data removed]",
      "text/plain": [
       "<Figure size 432x288 with 1 Axes>"
      ]
     },
     "metadata": {
      "needs_background": "light"
     },
     "output_type": "display_data"
    }
   ],
   "source": [
    "boxplot = authors[0:800].boxplot(column=[\"Numero de autores\"])\n",
    "plot.title(\"Conteo de autores por articulos\")\n",
    "plot.ylabel(\"Frecuencia\")\n",
    "print (authors)"
   ]
  },
  {
   "cell_type": "code",
   "execution_count": 18,
   "metadata": {},
   "outputs": [
    {
     "data": {
      "image/png": "[encoded data removed]",
      "text/plain": [
       "<Figure size 1296x864 with 2 Axes>"
      ]
     },
     "metadata": {
      "needs_background": "light"
     },
     "output_type": "display_data"
    }
   ],
   "source": [
    "countries = countries.sort_values(\"numero de autores\")\n",
    "max_pais = (countries[104:])\n",
    "\n",
    "countries_lat = [39.399872, 4.570868, 41.87194, 46.227638, 51.165691, 55.378051, \n",
    "                40.463667, -14.235004, 37.09024, -1.831239  ] \n",
    "                 \n",
    "countries_long = [-8.224454, -74.297333, 12.56738, 2.213749, 10.451526, -3.435973,  \n",
    "                 -3.74922, -51.92528, -95.712891, -78.183406]\n",
    "repeticiones = [143, 173, 177, 221, 253, 316, 499, 501, 784, 1206]\n",
    "\n",
    "import matplotlib.pyplot as plot\n",
    "%matplotlib inline\n",
    "\n",
    "plot.scatter(countries_lat, countries_long, repeticiones) \n",
    "plot.colorbar()\n",
    "ard = dict(arrowstyle=\"->\")\n",
    "plot.annotate(\"Ecuador\", xy = (-1.831239, -78.183406 ), \n",
    "             xytext = (10,-40), arrowprops = ard) \n",
    "plot.annotate(\"USA\", xy= (37.09024, -95.712891), \n",
    "            xytext = (40, -60), arrowprops = ard)\n",
    "plot.annotate(\"Brazil\", xy= (-14.235004, -51.92528), \n",
    "            xytext = (-10, -20), arrowprops = ard)\n",
    "plot.annotate(\"España\", xy= ( 40.463667, -3.74922), \n",
    "            xytext = (20, -20), arrowprops = ard)\n",
    "params = plot.gcf()\n",
    "plSize = params.get_size_inches()\n",
    "params.set_size_inches( (plSize[0] * 3, plSize[1] * 3) )\n",
    "plot.show()"
   ]
  },
  {
   "cell_type": "markdown",
   "metadata": {},
   "source": [
    "## Ejercicio 5 [1 punto]\n",
    "\n",
    "Interprete los resultados del **ejercicio 4**\n",
    "\n",
    "\n",
    "#### En el histograma se puede observar que ha existido un aumento exponencial en el numero de articulos relacionados a \"ecuador genomics \n",
    "\n",
    "#### En el boxplot se puede observar que la media de conteo de autores articulos entre en un rango de entre 5 a 10. Ademas se puede observar que existe varios elementos que superan el limite superior \n",
    "\n",
    "#### En el grafico de distribución de puntos se señala a los 10 paises que mas se repitieron en los autores, ademas que con flecha se marco a los tres primeros países \n",
    "\n"
   ]
  },
  {
   "cell_type": "markdown",
   "metadata": {},
   "source": [
    "### Escriba la respuesta del ejercicio 5\n"
   ]
  },
  {
   "cell_type": "markdown",
   "metadata": {},
   "source": [
    "## Ejercicio 6 [2 puntos]\n",
    "\n",
    "Para algún gen de interés, realice lo siguiente: \n",
    "\n",
    "1. Una búsqueda en la página del [NCBI nucleotide](https://www.ncbi.nlm.nih.gov/nucleotide/).\n",
    "\n",
    "2. Descargue el ```Accession List``` de su búsqueda.\n",
    "\n",
    "3. Cargue el ```Accession List``` en este notebook y haga una descarga de la data tipo ```genbank``` utilizando los diez primeros IDs de accesión. \n",
    "\n",
    "4. Arme un árbol filogenético para los resultados del paso 3.\n",
    "\n",
    "5. Interprete el árbol del paso 4. "
   ]
  },
  {
   "cell_type": "code",
   "execution_count": 25,
   "metadata": {},
   "outputs": [
    {
     "name": "stdout",
     "output_type": "stream",
     "text": [
      "      _______________________________ GU299121.1\n",
      "     |\n",
      "  ___|       ________________________________________ BV448638.1\n",
      " |   |      |\n",
      " |   |      |                      __ XM_011927083.1\n",
      " |   |______|                _____|\n",
      " |          |          _____|     |__ XM_009240050.2\n",
      " |          |         |     |\n",
      " |          |_________|     |_________________________________ XM_014480225.1\n",
      "_|                    |\n",
      " |                    |________________________________ KF860830.1\n",
      " |\n",
      " |     _________________________________ XM_012659818.1\n",
      " |____|\n",
      " |    |___________________________________ XM_009873783.1\n",
      " |\n",
      " |_________________________ XM_013020073.1\n",
      "\n"
     ]
    }
   ],
   "source": [
    "from Bio import Phylo\n",
    "from Bio import SeqIO\n",
    "from Bio import AlignIO\n",
    "from Bio.Phylo.TreeConstruction import DistanceCalculator\n",
    "from Bio.Phylo.TreeConstruction import DistanceTreeConstructor\n",
    "from Bio import Entrez\n",
    "from Bio import SeqIO\n",
    "from Bio import GenBank \n",
    "import csv \n",
    "import re \n",
    "## gen objetivo UGT2A1\n",
    "with open(\"sequence.seq\", errors=\"ignore\") as f: \n",
    "    texto = f.read()\n",
    "access = texto.split(\"\\n\")\n",
    "Entrez.email=\"ibethpacheco200@gmail.com\"\n",
    "archivo = open(\"tree.txt\", \"w\")\n",
    "for i in accession[0:10]: \n",
    "    handle=Entrez.efetch(db=\"nuccore\", id=i, rettype=\"fasta\")\n",
    "with open(\"alineacion.txt\", \"r\") as f: \n",
    "    alignment = AlignIO.read(f, \"clustal\")\n",
    "calculator = DistanceCalculator(\"identity\")\n",
    "distance_matriz = calculator.get_distance(alignment)\n",
    "constructor = DistanceTreeConstructor(calculator)\n",
    "tree = constructor.build_tree(alignment)\n",
    "tree.rooted = True \n",
    "Phylo.draw_ascii(tree)"
   ]
  },
  {
   "cell_type": "markdown",
   "metadata": {},
   "source": [
    "**Escriba aquí la interpretación del árbol**\n",
    "\n",
    "##### En el arbol se puede observar que existen dos clados bien definidos. Las secuencias XM_011927083.1 y XM_009240050.2 se agruparon en el mismo clado. Es posible que sean secuencias homologas. La secuencia XM_013020073.1 corresponde al grupo externo. "
   ]
  },
  {
   "cell_type": "markdown",
   "metadata": {},
   "source": [
    "## Ejercicio 7 [1 punto]\n",
    "\n",
    "\n",
    "1. Cree en GitHub un repositorio de nombre ```GBI6_ExamenPython```. \n",
    "2. Cree un archivo ```Readme.md``` que debe tener lo siguiente: \n",
    "- Datos personales\n",
    "- Características del computador\n",
    "- Versión de Python/Anaconda y de cada uno de los módulos/paquetes y utilizados\n",
    "- Explicación de la data utilizada\n",
    "\n",
    "3. Cree un directorio de nombre ```data``` donde deben estar guardado la data utilizada \n",
    "4. Realice al menos 1 control de la versión (commits) por cada ejercicio (del 1 al 6), con un mensaje que inicie como: \n",
    "\n",
    "```sh \n",
    "Carlitos Alimaña ha realizado .....  \n",
    "```"
   ]
  },
  {
   "cell_type": "markdown",
   "metadata": {},
   "source": [
    "<img src=pregunta_1.PNG width=800 height=240 />\n",
    "<img src=pregunta_2.PNG width=800 height=240 />\n",
    "<img src=pregunta_3.PNG width=800 height=240 />\n",
    "<img src=pregunta_4.PNG width=800 height=240 />\n",
    "<img src=pregunta_5.PNG width=800 height=240 />\n",
    "<img src=pregunta_6.PNG width=800 height=240 />\n",
    "<img src=pregunta_7.PNG width=800 height=240 />"
   ]
  }
 ],
 "metadata": {
  "kernelspec": {
   "display_name": "Python 3 (ipykernel)",
   "language": "python",
   "name": "python3"
  },
  "language_info": {
   "codemirror_mode": {
    "name": "ipython",
    "version": 3
   },
   "file_extension": ".py",
   "mimetype": "text/x-python",
   "name": "python",
   "nbconvert_exporter": "python",
   "pygments_lexer": "ipython3",
   "version": "3.10.2"
  },
  "latex_envs": {
   "LaTeX_envs_menu_present": true,
   "autoclose": false,
   "autocomplete": true,
   "bibliofile": "biblio.bib",
   "cite_by": "apalike",
   "current_citInitial": 1,
   "eqLabelWithNumbers": true,
   "eqNumInitial": 1,
   "hotkeys": {
    "equation": "Ctrl-E",
    "itemize": "Ctrl-I"
   },
   "labels_anchors": false,
   "latex_user_defs": false,
   "report_style_numbering": false,
   "user_envs_cfg": false
  },
  "toc": {
   "base_numbering": 1,
   "nav_menu": {},
   "number_sections": true,
   "sideBar": false,
   "skip_h1_title": false,
   "title_cell": "Table of Contents",
   "title_sidebar": "Contents",
   "toc_cell": false,
   "toc_position": {
    "height": "1152.67px",
    "left": "41px",
    "top": "110px",
    "width": "253.458px"
   },
   "toc_section_display": true,
   "toc_window_display": false
  },
  "varInspector": {
   "cols": {
    "lenName": 16,
    "lenType": 16,
    "lenVar": 40
   },
   "kernels_config": {
    "python": {
     "delete_cmd_postfix": "",
     "delete_cmd_prefix": "del ",
     "library": "var_list.py",
     "varRefreshCmd": "print(var_dic_list())"
    },
    "r": {
     "delete_cmd_postfix": ") ",
     "delete_cmd_prefix": "rm(",
     "library": "var_list.r",
     "varRefreshCmd": "cat(var_dic_list()) "
    }
   },
   "types_to_exclude": [
    "module",
    "function",
    "builtin_function_or_method",
    "instance",
    "_Feature"
   ],
   "window_display": false
  }
 },
 "nbformat": 4,
 "nbformat_minor": 4
}
